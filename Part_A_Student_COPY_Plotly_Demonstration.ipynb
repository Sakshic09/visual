{
  "cells": [
    {
      "cell_type": "markdown",
      "id": "7120e3b0-100e-44a7-89d4-5362985626e2",
      "metadata": {
        "id": "7120e3b0-100e-44a7-89d4-5362985626e2"
      },
      "source": [
        "# --- Introduction ---\n",
        "#### Welcome! In this notebook, you will practice creating interactive visualizations using Plotly Express.\n",
        "##### Follow the instructions, run the code cells, and explore the outputs!"
      ]
    },
    {
      "cell_type": "markdown",
      "id": "7dXs6x7nrFDl",
      "metadata": {
        "id": "7dXs6x7nrFDl"
      },
      "source": [
        "-- Edit and Write your Name and USN below this line --\n",
        "\n",
        "- USN - 001\n",
        "- FULL NAME - Ashwini Mathur\n",
        "- SECTION - I\n",
        "- SEMESTER - I"
      ]
    },
    {
      "cell_type": "markdown",
      "id": "4WqRgdlc1Xgr",
      "metadata": {
        "id": "4WqRgdlc1Xgr"
      },
      "source": []
    },
    {
      "cell_type": "code",
      "execution_count": null,
      "id": "858e03ce",
      "metadata": {},
      "outputs": [],
      "source": [
        "#ploty Workshop - Student Practice Notebook\n",
        "\n",
        "#Import necessary libraries ()"
      ]
    },
    {
      "cell_type": "code",
      "execution_count": null,
      "id": "cc2f192a-6b21-49b4-bc02-4cf3987fce16",
      "metadata": {
        "colab": {
          "base_uri": "https://localhost:8080/"
        },
        "id": "cc2f192a-6b21-49b4-bc02-4cf3987fce16",
        "outputId": "753e723b-66a7-4905-9e7f-18b8e93c9482"
      },
      "outputs": [
        {
          "name": "stdout",
          "output_type": "stream",
          "text": [
            "Requirement already satisfied: plotly in /usr/local/lib/python3.10/dist-packages (5.24.1)\n",
            "Requirement already satisfied: tenacity>=6.2.0 in /usr/local/lib/python3.10/dist-packages (from plotly) (9.0.0)\n",
            "Requirement already satisfied: packaging in /usr/local/lib/python3.10/dist-packages (from plotly) (24.1)\n",
            "Requirement already satisfied: seaborn in /usr/local/lib/python3.10/dist-packages (0.13.2)\n",
            "Requirement already satisfied: numpy!=1.24.0,>=1.20 in /usr/local/lib/python3.10/dist-packages (from seaborn) (1.26.4)\n",
            "Requirement already satisfied: pandas>=1.2 in /usr/local/lib/python3.10/dist-packages (from seaborn) (2.2.2)\n",
            "Requirement already satisfied: matplotlib!=3.6.1,>=3.4 in /usr/local/lib/python3.10/dist-packages (from seaborn) (3.8.0)\n",
            "Requirement already satisfied: contourpy>=1.0.1 in /usr/local/lib/python3.10/dist-packages (from matplotlib!=3.6.1,>=3.4->seaborn) (1.3.0)\n",
            "Requirement already satisfied: cycler>=0.10 in /usr/local/lib/python3.10/dist-packages (from matplotlib!=3.6.1,>=3.4->seaborn) (0.12.1)\n",
            "Requirement already satisfied: fonttools>=4.22.0 in /usr/local/lib/python3.10/dist-packages (from matplotlib!=3.6.1,>=3.4->seaborn) (4.54.1)\n",
            "Requirement already satisfied: kiwisolver>=1.0.1 in /usr/local/lib/python3.10/dist-packages (from matplotlib!=3.6.1,>=3.4->seaborn) (1.4.7)\n",
            "Requirement already satisfied: packaging>=20.0 in /usr/local/lib/python3.10/dist-packages (from matplotlib!=3.6.1,>=3.4->seaborn) (24.1)\n",
            "Requirement already satisfied: pillow>=6.2.0 in /usr/local/lib/python3.10/dist-packages (from matplotlib!=3.6.1,>=3.4->seaborn) (10.4.0)\n",
            "Requirement already satisfied: pyparsing>=2.3.1 in /usr/local/lib/python3.10/dist-packages (from matplotlib!=3.6.1,>=3.4->seaborn) (3.2.0)\n",
            "Requirement already satisfied: python-dateutil>=2.7 in /usr/local/lib/python3.10/dist-packages (from matplotlib!=3.6.1,>=3.4->seaborn) (2.8.2)\n",
            "Requirement already satisfied: pytz>=2020.1 in /usr/local/lib/python3.10/dist-packages (from pandas>=1.2->seaborn) (2024.2)\n",
            "Requirement already satisfied: tzdata>=2022.7 in /usr/local/lib/python3.10/dist-packages (from pandas>=1.2->seaborn) (2024.2)\n",
            "Requirement already satisfied: six>=1.5 in /usr/local/lib/python3.10/dist-packages (from python-dateutil>=2.7->matplotlib!=3.6.1,>=3.4->seaborn) (1.16.0)\n"
          ]
        }
      ],
      "source": [
        "!pip install plotly\n",
        "%pip install seaborn\n",
        "#In case for installation of ploty and seaborn package uncomment above syntax and execute the cell"
      ]
    },
    {
      "cell_type": "code",
      "execution_count": null,
      "id": "0def8394-41f4-4d8b-a190-01a9338c9096",
      "metadata": {
        "colab": {
          "base_uri": "https://localhost:8080/"
        },
        "id": "0def8394-41f4-4d8b-a190-01a9338c9096",
        "outputId": "a29c12df-e94b-42ae-b2f5-2a1250bf2e68"
      },
      "outputs": [
        {
          "name": "stdout",
          "output_type": "stream",
          "text": [
            "Name: plotly\n",
            "Version: 5.24.1\n",
            "Summary: An open-source, interactive data visualization library for Python\n",
            "Home-page: https://plotly.com/python/\n",
            "Author: Chris P\n",
            "Author-email: chris@plot.ly\n",
            "License: MIT\n",
            "Location: /usr/local/lib/python3.10/dist-packages\n",
            "Requires: packaging, tenacity\n",
            "Required-by: cufflinks, datascience, geemap\n"
          ]
        }
      ],
      "source": [
        "# verify the plotly version\n",
        "!pip show plotly"
      ]
    },
    {
      "cell_type": "code",
      "execution_count": null,
      "id": "LY1ILxpE0Qn7",
      "metadata": {
        "id": "LY1ILxpE0Qn7"
      },
      "outputs": [],
      "source": [
        "# verify the seaborn version\n",
        "!pip show seaborn"
      ]
    },
    {
      "cell_type": "code",
      "execution_count": null,
      "id": "58b00408-f358-4a6a-b0e7-219479418b82",
      "metadata": {
        "id": "58b00408-f358-4a6a-b0e7-219479418b82"
      },
      "outputs": [],
      "source": [
        "# Plotly Workshop - Student Practice Notebook\n",
        "\n",
        "# Import necessary libraries [ seaborn, plotly and pandas ]\n",
        "# Write the code below this line"
      ]
    },
    {
      "cell_type": "markdown",
      "id": "b9eedcca-65f6-42f4-ac63-08435e3eb5a6",
      "metadata": {
        "id": "b9eedcca-65f6-42f4-ac63-08435e3eb5a6"
      },
      "source": [
        "#### Load the very simple dataset from seaborn library"
      ]
    },
    {
      "cell_type": "code",
      "execution_count": null,
      "id": "e4cf8c5a-a6fa-406f-9a7f-e9e7d366908c",
      "metadata": {
        "id": "e4cf8c5a-a6fa-406f-9a7f-e9e7d366908c"
      },
      "outputs": [],
      "source": [
        "#1. Load the tips dataset from Seaborn\n",
        "# Write the code below this line\n",
        "\n",
        "# Display the first few rows of the dataset\n",
        "# Write the code below this line"
      ]
    },
    {
      "cell_type": "code",
      "execution_count": null,
      "id": "7996ae2b-f7b7-4872-bbe3-8d9763229f72",
      "metadata": {
        "id": "7996ae2b-f7b7-4872-bbe3-8d9763229f72"
      },
      "outputs": [],
      "source": [
        "#2. Visualizations using  [ simple plot ]\n",
        "# Write the code below this line"
      ]
    },
    {
      "cell_type": "code",
      "execution_count": null,
      "id": "1a54810a-1455-4019-abdd-7b8f9717608b",
      "metadata": {
        "id": "1a54810a-1455-4019-abdd-7b8f9717608b"
      },
      "outputs": [],
      "source": [
        "#3. Bar Chart: Average Tip by Day (With Color)\n",
        "# Write the code below this line"
      ]
    },
    {
      "cell_type": "markdown",
      "id": "9WqHkgU_z5dG",
      "metadata": {
        "id": "9WqHkgU_z5dG"
      },
      "source": [
        "[ Double click and edit the line ] -- Write the inference of the above plot below this line. --"
      ]
    },
    {
      "cell_type": "code",
      "execution_count": null,
      "id": "87ce3311-96a8-4567-8b8f-c5220260aa4b",
      "metadata": {
        "id": "87ce3311-96a8-4567-8b8f-c5220260aa4b"
      },
      "outputs": [],
      "source": [
        "#4. Scatter Plot: Total Bill vs. Tip (Color-coded by Gender)\n",
        "# Write the code below this line"
      ]
    },
    {
      "cell_type": "markdown",
      "id": "5vV4fPrO0L5B",
      "metadata": {
        "id": "5vV4fPrO0L5B"
      },
      "source": [
        "[ Double click and edit the line ] -- Write the inference of the above plot below this line. --"
      ]
    },
    {
      "cell_type": "code",
      "execution_count": null,
      "id": "5001af7e-8ef3-4b60-bea2-7f859f706287",
      "metadata": {
        "id": "5001af7e-8ef3-4b60-bea2-7f859f706287"
      },
      "outputs": [],
      "source": [
        "#5. Box Plot: Distribution of Total Bill by Day (With Color by Time)\n",
        "# Write the code below this line"
      ]
    },
    {
      "cell_type": "markdown",
      "id": "8VYvVMUO0MPA",
      "metadata": {
        "id": "8VYvVMUO0MPA"
      },
      "source": [
        "[ Double click and edit the line ] -- Write the inference of the above plot below this line. --"
      ]
    },
    {
      "cell_type": "code",
      "execution_count": null,
      "id": "a9b02638-fea1-48ba-b468-f5dfc2380d71",
      "metadata": {
        "id": "a9b02638-fea1-48ba-b468-f5dfc2380d71"
      },
      "outputs": [],
      "source": [
        "#6. Histogram: Tip Distribution (With Color)\n",
        "# Write the code below this line"
      ]
    },
    {
      "cell_type": "markdown",
      "id": "wddpgt920NAn",
      "metadata": {
        "id": "wddpgt920NAn"
      },
      "source": [
        "[ Double click and edit the line ] -- Write the inference of the above plot below this line. --"
      ]
    },
    {
      "cell_type": "code",
      "execution_count": null,
      "id": "vp3JMdrb0Mly",
      "metadata": {
        "id": "vp3JMdrb0Mly"
      },
      "outputs": [],
      "source": []
    },
    {
      "cell_type": "markdown",
      "id": "-PF5B74eruiM",
      "metadata": {
        "id": "-PF5B74eruiM"
      },
      "source": [
        "-- End of the Task --"
      ]
    }
  ],
  "metadata": {
    "colab": {
      "provenance": []
    },
    "kernelspec": {
      "display_name": "Python 3 (ipykernel)",
      "language": "python",
      "name": "python3"
    },
    "language_info": {
      "codemirror_mode": {
        "name": "ipython",
        "version": 3
      },
      "file_extension": ".py",
      "mimetype": "text/x-python",
      "name": "python",
      "nbconvert_exporter": "python",
      "pygments_lexer": "ipython3",
      "version": "3.12.7"
    }
  },
  "nbformat": 4,
  "nbformat_minor": 5
}
